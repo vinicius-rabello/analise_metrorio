{
 "cells": [
  {
   "cell_type": "code",
   "execution_count": 1,
   "id": "b527b4e6",
   "metadata": {},
   "outputs": [],
   "source": [
    "import pandas as pd\n",
    "import matplotlib.pyplot as plt\n",
    "import numpy as np"
   ]
  },
  {
   "cell_type": "code",
   "execution_count": 2,
   "id": "32de38d6",
   "metadata": {},
   "outputs": [
    {
     "data": {
      "text/html": [
       "<div>\n",
       "<style scoped>\n",
       "    .dataframe tbody tr th:only-of-type {\n",
       "        vertical-align: middle;\n",
       "    }\n",
       "\n",
       "    .dataframe tbody tr th {\n",
       "        vertical-align: top;\n",
       "    }\n",
       "\n",
       "    .dataframe thead th {\n",
       "        text-align: right;\n",
       "    }\n",
       "</style>\n",
       "<table border=\"1\" class=\"dataframe\">\n",
       "  <thead>\n",
       "    <tr style=\"text-align: right;\">\n",
       "      <th></th>\n",
       "      <th>ano</th>\n",
       "      <th>mes</th>\n",
       "      <th>estacao</th>\n",
       "      <th>linha</th>\n",
       "      <th>numero_de_pessoas</th>\n",
       "    </tr>\n",
       "  </thead>\n",
       "  <tbody>\n",
       "    <tr>\n",
       "      <th>0</th>\n",
       "      <td>1998</td>\n",
       "      <td>1</td>\n",
       "      <td>Saens Peña</td>\n",
       "      <td>1</td>\n",
       "      <td>624.691</td>\n",
       "    </tr>\n",
       "    <tr>\n",
       "      <th>1</th>\n",
       "      <td>1998</td>\n",
       "      <td>1</td>\n",
       "      <td>Sao Francisco Xavier</td>\n",
       "      <td>1</td>\n",
       "      <td>148.769</td>\n",
       "    </tr>\n",
       "    <tr>\n",
       "      <th>2</th>\n",
       "      <td>1998</td>\n",
       "      <td>1</td>\n",
       "      <td>Afonso Pena</td>\n",
       "      <td>1</td>\n",
       "      <td>179.229</td>\n",
       "    </tr>\n",
       "    <tr>\n",
       "      <th>3</th>\n",
       "      <td>1998</td>\n",
       "      <td>1</td>\n",
       "      <td>Estacio</td>\n",
       "      <td>1</td>\n",
       "      <td>172.012</td>\n",
       "    </tr>\n",
       "    <tr>\n",
       "      <th>4</th>\n",
       "      <td>1998</td>\n",
       "      <td>1</td>\n",
       "      <td>Praca Onze</td>\n",
       "      <td>1</td>\n",
       "      <td>122.723</td>\n",
       "    </tr>\n",
       "  </tbody>\n",
       "</table>\n",
       "</div>"
      ],
      "text/plain": [
       "    ano  mes               estacao  linha numero_de_pessoas\n",
       "0  1998    1            Saens Peña      1           624.691\n",
       "1  1998    1  Sao Francisco Xavier      1           148.769\n",
       "2  1998    1           Afonso Pena      1           179.229\n",
       "3  1998    1              Estacio       1           172.012\n",
       "4  1998    1            Praca Onze      1           122.723"
      ]
     },
     "execution_count": 2,
     "metadata": {},
     "output_type": "execute_result"
    }
   ],
   "source": [
    "df=pd.read_excel('metrorio.xlsx')\n",
    "df.head()"
   ]
  },
  {
   "cell_type": "code",
   "execution_count": 3,
   "id": "5e354f93",
   "metadata": {},
   "outputs": [
    {
     "data": {
      "text/html": [
       "<div>\n",
       "<style scoped>\n",
       "    .dataframe tbody tr th:only-of-type {\n",
       "        vertical-align: middle;\n",
       "    }\n",
       "\n",
       "    .dataframe tbody tr th {\n",
       "        vertical-align: top;\n",
       "    }\n",
       "\n",
       "    .dataframe thead th {\n",
       "        text-align: right;\n",
       "    }\n",
       "</style>\n",
       "<table border=\"1\" class=\"dataframe\">\n",
       "  <thead>\n",
       "    <tr style=\"text-align: right;\">\n",
       "      <th></th>\n",
       "      <th>data</th>\n",
       "      <th>estacao</th>\n",
       "      <th>linha</th>\n",
       "      <th>n_passageiros</th>\n",
       "    </tr>\n",
       "  </thead>\n",
       "  <tbody>\n",
       "    <tr>\n",
       "      <th>0</th>\n",
       "      <td>01/98</td>\n",
       "      <td>Saens Peña</td>\n",
       "      <td>1</td>\n",
       "      <td>624.691</td>\n",
       "    </tr>\n",
       "    <tr>\n",
       "      <th>1</th>\n",
       "      <td>01/98</td>\n",
       "      <td>Sao Francisco Xavier</td>\n",
       "      <td>1</td>\n",
       "      <td>148.769</td>\n",
       "    </tr>\n",
       "    <tr>\n",
       "      <th>2</th>\n",
       "      <td>01/98</td>\n",
       "      <td>Afonso Pena</td>\n",
       "      <td>1</td>\n",
       "      <td>179.229</td>\n",
       "    </tr>\n",
       "    <tr>\n",
       "      <th>3</th>\n",
       "      <td>01/98</td>\n",
       "      <td>Estacio</td>\n",
       "      <td>1</td>\n",
       "      <td>172.012</td>\n",
       "    </tr>\n",
       "    <tr>\n",
       "      <th>4</th>\n",
       "      <td>01/98</td>\n",
       "      <td>Praca Onze</td>\n",
       "      <td>1</td>\n",
       "      <td>122.723</td>\n",
       "    </tr>\n",
       "  </tbody>\n",
       "</table>\n",
       "</div>"
      ],
      "text/plain": [
       "    data               estacao  linha n_passageiros\n",
       "0  01/98            Saens Peña      1       624.691\n",
       "1  01/98  Sao Francisco Xavier      1       148.769\n",
       "2  01/98           Afonso Pena      1       179.229\n",
       "3  01/98               Estacio      1       172.012\n",
       "4  01/98            Praca Onze      1       122.723"
      ]
     },
     "execution_count": 3,
     "metadata": {},
     "output_type": "execute_result"
    }
   ],
   "source": [
    "df=pd.read_excel('metrorio.xlsx')\n",
    "df['data']=df[['ano','mes']].apply(lambda x: '0'+str(x['mes'])+'/'+str(x['ano'])[2:],axis=1)\n",
    "\n",
    "def f(x):\n",
    "    if len(x)>5:\n",
    "        return x[1:]\n",
    "    else:\n",
    "        return x\n",
    "\n",
    "df['data']=df['data'].apply(lambda x: f(x))\n",
    "df=df[['data','estacao','linha','numero_de_pessoas']]\n",
    "df.rename(columns={'numero_de_pessoas':'n_passageiros'},inplace=True)\n",
    "df['estacao']=df['estacao'].apply(lambda x: x.rstrip().lstrip())\n",
    "df.head()"
   ]
  },
  {
   "cell_type": "code",
   "execution_count": 4,
   "id": "0cf07c56",
   "metadata": {},
   "outputs": [
    {
     "data": {
      "text/plain": [
       "True     10583\n",
       "False      124\n",
       "Name: n_passageiros, dtype: int64"
      ]
     },
     "execution_count": 4,
     "metadata": {},
     "output_type": "execute_result"
    }
   ],
   "source": [
    "df.applymap(np.isreal)['n_passageiros'].value_counts()"
   ]
  },
  {
   "cell_type": "code",
   "execution_count": 5,
   "id": "6b88fc29",
   "metadata": {},
   "outputs": [
    {
     "data": {
      "text/plain": [
       "124"
      ]
     },
     "execution_count": 5,
     "metadata": {},
     "output_type": "execute_result"
    }
   ],
   "source": [
    "null_idx=df.loc[df['n_passageiros']=='...'].index.values.tolist()\n",
    "len(null_idx)"
   ]
  },
  {
   "cell_type": "code",
   "execution_count": 6,
   "id": "6da296bc",
   "metadata": {},
   "outputs": [
    {
     "data": {
      "text/plain": [
       "(10583, 4)"
      ]
     },
     "execution_count": 6,
     "metadata": {},
     "output_type": "execute_result"
    }
   ],
   "source": [
    "df.drop(index=null_idx,inplace=True)\n",
    "df.shape"
   ]
  },
  {
   "cell_type": "code",
   "execution_count": 7,
   "id": "a4034961",
   "metadata": {},
   "outputs": [],
   "source": [
    "df['n_passageiros']=df['n_passageiros'].apply(lambda x: round(x,3))\n",
    "df['n_passageiros']=df['n_passageiros'].apply(lambda x: int(str(x).replace('.','')))"
   ]
  },
  {
   "cell_type": "code",
   "execution_count": 8,
   "id": "708bac25",
   "metadata": {},
   "outputs": [],
   "source": [
    "df.to_csv('metrorio_data.csv',index=False)"
   ]
  },
  {
   "cell_type": "code",
   "execution_count": null,
   "id": "d17e2b90",
   "metadata": {},
   "outputs": [],
   "source": []
  }
 ],
 "metadata": {
  "kernelspec": {
   "display_name": "Python 3 (ipykernel)",
   "language": "python",
   "name": "python3"
  },
  "language_info": {
   "codemirror_mode": {
    "name": "ipython",
    "version": 3
   },
   "file_extension": ".py",
   "mimetype": "text/x-python",
   "name": "python",
   "nbconvert_exporter": "python",
   "pygments_lexer": "ipython3",
   "version": "3.9.13"
  }
 },
 "nbformat": 4,
 "nbformat_minor": 5
}
